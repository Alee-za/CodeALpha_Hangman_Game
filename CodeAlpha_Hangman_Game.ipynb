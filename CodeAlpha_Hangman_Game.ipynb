{
 "cells": [
  {
   "cell_type": "code",
   "execution_count": 5,
   "id": "5731f32f-23b9-435d-a877-656e1121b7dd",
   "metadata": {},
   "outputs": [
    {
     "name": "stdin",
     "output_type": "stream",
     "text": [
      "What is your name?  LEEZEY\n"
     ]
    },
    {
     "name": "stdout",
     "output_type": "stream",
     "text": [
      "Hello, LEEZEY, it's time to play Hangman!\n",
      "Start guessing...\n",
      "______"
     ]
    },
    {
     "name": "stdin",
     "output_type": "stream",
     "text": [
      "\n",
      "Guess a letter: f\n"
     ]
    },
    {
     "name": "stdout",
     "output_type": "stream",
     "text": [
      "Guessed letters so far:  f\n",
      "Oops!! Wrong\n",
      "You have 4 more guesses\n",
      "______"
     ]
    },
    {
     "name": "stdin",
     "output_type": "stream",
     "text": [
      "\n",
      "Guess a letter: r\n"
     ]
    },
    {
     "name": "stdout",
     "output_type": "stream",
     "text": [
      "Guessed letters so far:  f r\n",
      "Oops!! Wrong\n",
      "You have 3 more guesses\n",
      "______"
     ]
    },
    {
     "name": "stdin",
     "output_type": "stream",
     "text": [
      "\n",
      "Guess a letter: q\n"
     ]
    },
    {
     "name": "stdout",
     "output_type": "stream",
     "text": [
      "Guessed letters so far:  f r q\n",
      "Oops!! Wrong\n",
      "You have 2 more guesses\n",
      "______"
     ]
    },
    {
     "name": "stdin",
     "output_type": "stream",
     "text": [
      "\n",
      "Guess a letter: w\n"
     ]
    },
    {
     "name": "stdout",
     "output_type": "stream",
     "text": [
      "Guessed letters so far:  f r q w\n",
      "Oops!! Wrong\n",
      "You have 1 more guesses\n",
      "______"
     ]
    },
    {
     "name": "stdin",
     "output_type": "stream",
     "text": [
      "\n",
      "Guess a letter: y\n"
     ]
    },
    {
     "name": "stdout",
     "output_type": "stream",
     "text": [
      "Guessed letters so far:  f r q w y\n",
      "_y____"
     ]
    },
    {
     "name": "stdin",
     "output_type": "stream",
     "text": [
      "\n",
      "Guess a letter: i\n"
     ]
    },
    {
     "name": "stdout",
     "output_type": "stream",
     "text": [
      "Guessed letters so far:  f r q w y i\n",
      "Oops!! Wrong\n",
      "You have 0 more guesses\n",
      "Sorry :) LEEZEY , you lose\n"
     ]
    }
   ],
   "source": [
    "#import necessary modules\n",
    "import time    #time module is used for adding delays to the the program execution\n",
    "import random   #rando\n",
    "\n",
    "#prompt user for their name\n",
    "player_name = input(\"What is your name? \")\n",
    "\n",
    "print(\"Hello, \" + player_name + \", it's time to play Hangman!\")\n",
    "\n",
    "#wait for 1 second\n",
    "time.sleep(1)\n",
    "\n",
    "print(\"Start guessing...\")\n",
    "time.sleep(0.5)\n",
    "\n",
    "# List of possible words to guess\n",
    "words = [\"secret\", \"python\", \"hangman\", \"challenge\", \"random\", \"programming\", \"computer\", \"science\", \"algorithm\", \"function\", \"variable\", \"loop\"]\n",
    "\n",
    "# Choose a random word from the list\n",
    "chosen_word = random.choice(words)\n",
    "\n",
    "#initialize an empty string for guessed letters\n",
    "guessed_letters = ''\n",
    "\n",
    "#initialize a list to store all guessed letters\n",
    "all_guessed_letters = []\n",
    "\n",
    "#set the number of allowed incorrect guesses\n",
    "attempts_remaining = 5\n",
    "\n",
    "# Create a loop for the guessing process\n",
    "\n",
    "#check if there are remaining attempts\n",
    "while attempts_remaining > 0:         \n",
    "\n",
    "    # counter for missed guesses\n",
    "    missed_guesses = 0             \n",
    "\n",
    "    # iterate over each character in the chosen word    \n",
    "    for char in chosen_word:      \n",
    "\n",
    "        # check if the character has been guessed\n",
    "        if char in guessed_letters:    \n",
    "    \n",
    "            # print the character\n",
    "            print(char, end=\"\"),    \n",
    "\n",
    "        else:\n",
    "    \n",
    "            # if not, print a dash\n",
    "            print(\"_\", end=\"\"),     \n",
    "       \n",
    "            # increment the missed guesses counter\n",
    "            missed_guesses += 1    \n",
    "\n",
    "    # if no characters were missed\n",
    "\n",
    "    # print a winning message\n",
    "    if missed_guesses == 0:        \n",
    "        print(\"\\nCongratulations, you won!\")\n",
    "        # exit the loop\n",
    "        break            \n",
    "\n",
    "    # prompt the user to guess a letter\n",
    "    guess = input(\"\\nGuess a letter:\") \n",
    "\n",
    "    # add the guessed letter to the string of guessed letters\n",
    "    guessed_letters += guess                    \n",
    "\n",
    "    # add the guessed letter to the list of all guessed letters\n",
    "    all_guessed_letters.append(guess)\n",
    "\n",
    "    # print all guessed letters\n",
    "    print(\"Guessed letters so far: \", ' '.join(all_guessed_letters))\n",
    "\n",
    "    # if the guessed letter is not in the chosen word\n",
    "    if guess not in chosen_word:  \n",
    " \n",
    "        # decrement the number of attempts remaining\n",
    "        attempts_remaining -= 1        \n",
    " \n",
    "        # print a message for an incorrect guess\n",
    "        print(\"Oops!! Wrong\")  \n",
    " \n",
    "        # print the number of remaining attempts\n",
    "        print(\"You have\", attempts_remaining, 'more guesses' )\n",
    " \n",
    "        # if there are no attempts remaining\n",
    "        if attempts_remaining == 0:           \n",
    "    \n",
    "            # print a losing message\n",
    "            print(\"Sorry :)\", player_name, \" you lose\"  )\n"
   ]
  },
  {
   "cell_type": "code",
   "execution_count": null,
   "id": "eea15e22-870d-4693-8f2a-9aadda680d16",
   "metadata": {},
   "outputs": [],
   "source": []
  }
 ],
 "metadata": {
  "kernelspec": {
   "display_name": "Python 3 (ipykernel)",
   "language": "python",
   "name": "python3"
  },
  "language_info": {
   "codemirror_mode": {
    "name": "ipython",
    "version": 3
   },
   "file_extension": ".py",
   "mimetype": "text/x-python",
   "name": "python",
   "nbconvert_exporter": "python",
   "pygments_lexer": "ipython3",
   "version": "3.11.7"
  }
 },
 "nbformat": 4,
 "nbformat_minor": 5
}
